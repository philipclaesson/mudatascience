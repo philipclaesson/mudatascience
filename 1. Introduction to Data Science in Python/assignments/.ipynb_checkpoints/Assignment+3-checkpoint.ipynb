{
 "cells": [
  {
   "cell_type": "markdown",
   "metadata": {},
   "source": [
    "---\n",
    "\n",
    "_You are currently looking at **version 1.5** of this notebook. To download notebooks and datafiles, as well as get help on Jupyter notebooks in the Coursera platform, visit the [Jupyter Notebook FAQ](https://www.coursera.org/learn/python-data-analysis/resources/0dhYG) course resource._\n",
    "\n",
    "---"
   ]
  },
  {
   "cell_type": "markdown",
   "metadata": {},
   "source": [
    "# Assignment 3 - More Pandas\n",
    "This assignment requires more individual learning then the last one did - you are encouraged to check out the [pandas documentation](http://pandas.pydata.org/pandas-docs/stable/) to find functions or methods you might not have used yet, or ask questions on [Stack Overflow](http://stackoverflow.com/) and tag them as pandas and python related. And of course, the discussion forums are open for interaction with your peers and the course staff."
   ]
  },
  {
   "cell_type": "markdown",
   "metadata": {},
   "source": [
    "### Question 1 (20%)\n",
    "Load the energy data from the file `Energy Indicators.xls`, which is a list of indicators of [energy supply and renewable electricity production](Energy%20Indicators.xls) from the [United Nations](http://unstats.un.org/unsd/environment/excel_file_tables/2013/Energy%20Indicators.xls) for the year 2013, and should be put into a DataFrame with the variable name of **energy**.\n",
    "\n",
    "Keep in mind that this is an Excel file, and not a comma separated values file. Also, make sure to exclude the footer and header information from the datafile. The first two columns are unneccessary, so you should get rid of them, and you should change the column labels so that the columns are:\n",
    "\n",
    "`['Country', 'Energy Supply', 'Energy Supply per Capita', '% Renewable']`\n",
    "\n",
    "Convert `Energy Supply` to gigajoules (there are 1,000,000 gigajoules in a petajoule). For all countries which have missing data (e.g. data with \"...\") make sure this is reflected as `np.NaN` values.\n",
    "\n",
    "Rename the following list of countries (for use in later questions):\n",
    "\n",
    "```\"Republic of Korea\": \"South Korea\",\n",
    "\"United States of America\": \"United States\",\n",
    "\"United Kingdom of Great Britain and Northern Ireland\": \"United Kingdom\",\n",
    "\"China, Hong Kong Special Administrative Region\": \"Hong Kong\"```\n",
    "\n",
    "There are also several countries with numbers and/or parenthesis in their name. Be sure to remove these, \n",
    "\n",
    "e.g. \n",
    "\n",
    "`'Bolivia (Plurinational State of)'` should be `'Bolivia'`, \n",
    "\n",
    "`'Switzerland17'` should be `'Switzerland'`.\n",
    "\n",
    "<br>\n",
    "\n",
    "Next, load the GDP data from the file `world_bank.csv`, which is a csv containing countries' GDP from 1960 to 2015 from [World Bank](http://data.worldbank.org/indicator/NY.GDP.MKTP.CD). Call this DataFrame **GDP**. \n",
    "\n",
    "Make sure to skip the header, and rename the following list of countries:\n",
    "\n",
    "```\"Korea, Rep.\": \"South Korea\", \n",
    "\"Iran, Islamic Rep.\": \"Iran\",\n",
    "\"Hong Kong SAR, China\": \"Hong Kong\"```\n",
    "\n",
    "<br>\n",
    "\n",
    "Finally, load the [Sciamgo Journal and Country Rank data for Energy Engineering and Power Technology](http://www.scimagojr.com/countryrank.php?category=2102) from the file `scimagojr-3.xlsx`, which ranks countries based on their journal contributions in the aforementioned area. Call this DataFrame **ScimEn**.\n",
    "\n",
    "Join the three datasets: GDP, Energy, and ScimEn into a new dataset (using the intersection of country names). Use only the last 10 years (2006-2015) of GDP data and only the top 15 countries by Scimagojr 'Rank' (Rank 1 through 15). \n",
    "\n",
    "The index of this DataFrame should be the name of the country, and the columns should be ['Rank', 'Documents', 'Citable documents', 'Citations', 'Self-citations',\n",
    "       'Citations per document', 'H index', 'Energy Supply',\n",
    "       'Energy Supply per Capita', '% Renewable', '2006', '2007', '2008',\n",
    "       '2009', '2010', '2011', '2012', '2013', '2014', '2015'].\n",
    "\n",
    "*This function should return a DataFrame with 20 columns and 15 entries.*"
   ]
  },
  {
   "cell_type": "code",
   "execution_count": 393,
   "metadata": {
    "collapsed": true
   },
   "outputs": [],
   "source": [
    "import pandas as pd\n",
    "import numpy as np\n",
    "import re\n",
    "subdir = \"../data/\"\n",
    "subdir = \"\""
   ]
  },
  {
   "cell_type": "code",
   "execution_count": 323,
   "metadata": {},
   "outputs": [],
   "source": [
    "## Import and Clean Energy dataframe\n",
    "\n",
    "# Load excel file \n",
    "Energy = pd.read_excel(subdir + \"Energy Indicators.xls\")\n",
    "\n",
    "# Remove header and footer\n",
    "Energy = Energy[17:243]\n",
    "\n",
    "# The first column is unneccessary, get rid of\n",
    "Energy = Energy.drop(['Unnamed: 0', 'Unnamed: 1'], axis = 1)\n",
    "\n",
    "# Save columns: ['Country', 'Energy Supply', 'Energy Supply per Capita', '% Renewable']`\n",
    "Energy.columns = ['Country', 'Energy Supply', 'Energy Supply per Capita', '% Renewable']\n",
    "\n",
    "# Convert `Energy Supply` to gigajoules (there are 1,000,000 gigajoules in a petajoule). \n",
    "Energy['Energy Supply'] = Energy['Energy Supply'] * 1000000\n",
    "\n",
    "# Handle missing data (e.g. data with \"...\") make sure this is reflected as `np.NaN` values.\n",
    "Energy.set_index('Country', inplace = True)\n",
    "Energy = Energy.replace(r\"..\", np.NaN, regex=True)\n",
    "Energy.reset_index(inplace = True)\n",
    "# Rename the following list of countries (for use in later questions):\n",
    "\n",
    "# Remove numbers\n",
    "Energy['Country'] = Energy['Country'].str.replace('\\d+', '')\n",
    "\n",
    "\n",
    "# Remove parenthesis and everything in between\n",
    "Energy['Country'] = Energy['Country'].apply(lambda x: re.sub(r\"\\(.*\\)\", \"\", x))\n",
    "\n",
    "\n",
    "# Renamea\n",
    "names = {\n",
    "    \"Republic of Korea\": \"South Korea\",\n",
    "    \"United States of America\": \"United States\",\n",
    "    \"United Kingdom of Great Britain and Northern Ireland\": \"United Kingdom\",\n",
    "    \"China, Hong Kong Special Administrative Region\": \"Hong Kong\",\n",
    "    \"Iran \" : \"Iran\"\n",
    "}\n",
    "\n",
    "for key, value in names.items():\n",
    "    Energy = Energy.replace(key, value)\n",
    "\n",
    "#Energy.head()"
   ]
  },
  {
   "cell_type": "code",
   "execution_count": 324,
   "metadata": {
    "collapsed": true
   },
   "outputs": [],
   "source": [
    "#Energy[Energy['Country'] == 'Iran']"
   ]
  },
  {
   "cell_type": "code",
   "execution_count": null,
   "metadata": {
    "collapsed": true
   },
   "outputs": [],
   "source": []
  },
  {
   "cell_type": "code",
   "execution_count": 325,
   "metadata": {
    "collapsed": true
   },
   "outputs": [],
   "source": [
    "#l = 90\n",
    "#Energy[l:l+10]"
   ]
  },
  {
   "cell_type": "code",
   "execution_count": 326,
   "metadata": {},
   "outputs": [
    {
     "name": "stderr",
     "output_type": "stream",
     "text": [
      "/Users/philipclaesson/anaconda3/lib/python3.6/site-packages/ipykernel_launcher.py:8: SettingWithCopyWarning: \n",
      "A value is trying to be set on a copy of a slice from a DataFrame\n",
      "\n",
      "See the caveats in the documentation: http://pandas.pydata.org/pandas-docs/stable/indexing.html#indexing-view-versus-copy\n",
      "  \n"
     ]
    }
   ],
   "source": [
    "# load the GDP data from the file `world_bank.csv`\n",
    "\n",
    "\n",
    "GDP = pd.read_csv(subdir + 'world_bank.csv')\n",
    "\n",
    "# make header out of row 3\n",
    "new_columns = GDP.iloc[3]\n",
    "new_columns[0] = \"Country\"\n",
    "GDP.columns = new_columns\n",
    "\n",
    "# Make sure to skip the header\n",
    "GDP = GDP[4:]\n",
    "\n",
    "# Use only the last 10 years (2006-2015) of GDP data \n",
    "columns = ['Country', 2006, 2007, 2008, 2009, 2010, 2011, 2012, 2013, 2014, 2015]\n",
    "GDP = GDP[columns]\n",
    "# rename the following list of countries:\n",
    "\n",
    "names = {\n",
    "    \"Korea, Rep.\": \"South Korea\", \n",
    "    \"Iran, Islamic Rep.\": \"Iran\",\n",
    "    \"Hong Kong SAR, China\": \"Hong Kong\"\n",
    "}\n",
    "    \n",
    "for key, value in names.items():\n",
    "    GDP = GDP.replace(key, value)\n",
    "    \n",
    "\n",
    "#GDP.head()"
   ]
  },
  {
   "cell_type": "code",
   "execution_count": null,
   "metadata": {
    "collapsed": true
   },
   "outputs": [],
   "source": []
  },
  {
   "cell_type": "code",
   "execution_count": null,
   "metadata": {
    "collapsed": true
   },
   "outputs": [],
   "source": []
  },
  {
   "cell_type": "code",
   "execution_count": null,
   "metadata": {
    "collapsed": true
   },
   "outputs": [],
   "source": []
  },
  {
   "cell_type": "code",
   "execution_count": 327,
   "metadata": {
    "collapsed": true
   },
   "outputs": [],
   "source": [
    "#load the [Sciamgo Journal and Country Rank data  Call this DataFrame **ScimEn**.\n",
    "ScimEn = pd.read_excel(subdir + 'scimagojr-3.xlsx')\n",
    "#ScimEn.head(15)"
   ]
  },
  {
   "cell_type": "code",
   "execution_count": 328,
   "metadata": {
    "scrolled": false
   },
   "outputs": [],
   "source": [
    "# Join the three datasets: GDP, Energy, and ScimEn into a new dataset (using the intersection of country names). \n",
    "full = pd.merge(ScimEn, Energy, how='inner', on='Country')\n",
    "full = pd.merge(full, GDP, how='inner', on='Country')\n",
    "\n",
    "# Use only the top 15 countries by Scimagojr 'Rank' (Rank 1 through 15).\n",
    "full = full[:15]\n",
    "\n",
    "# The index of this DataFrame should be the name of the country.\n",
    "full.set_index('Country', inplace = True)\n",
    "\n",
    "columns = ['Rank', 'Documents', 'Citable documents', 'Citations', 'Self-citations',\n",
    "       'Citations per document', 'H index', 'Energy Supply',\n",
    "       'Energy Supply per Capita', '% Renewable', '2006', '2007', '2008',\n",
    "       '2009', '2010', '2011', '2012', '2013', '2014', '2015']\n",
    "full.columns = columns\n",
    "\n",
    "full = full.sort_values('Rank')"
   ]
  },
  {
   "cell_type": "code",
   "execution_count": 329,
   "metadata": {
    "umich_part_id": "009",
    "umich_partlist_id": "003"
   },
   "outputs": [],
   "source": [
    "def answer_one():\n",
    "    ## Import and Clean Energy dataframe\n",
    "\n",
    "    # Load excel file \n",
    "    Energy = pd.read_excel(subdir + \"Energy Indicators.xls\")\n",
    "\n",
    "    # Remove header and footer\n",
    "    Energy = Energy[17:243]\n",
    "\n",
    "    # The first column is unneccessary, get rid of\n",
    "    Energy = Energy.drop(['Unnamed: 0', 'Unnamed: 1'], axis = 1)\n",
    "\n",
    "    # Save columns: ['Country', 'Energy Supply', 'Energy Supply per Capita', '% Renewable']`\n",
    "    Energy.columns = ['Country', 'Energy Supply', 'Energy Supply per Capita', '% Renewable']\n",
    "\n",
    "    # Convert `Energy Supply` to gigajoules (there are 1,000,000 gigajoules in a petajoule). \n",
    "    Energy['Energy Supply'] = Energy['Energy Supply'] * 1000000\n",
    "\n",
    "    # Handle missing data (e.g. data with \"...\") make sure this is reflected as `np.NaN` values.\n",
    "    Energy.set_index('Country', inplace = True)\n",
    "    Energy = Energy.replace(r\"..\", np.NaN, regex=True)\n",
    "    Energy.reset_index(inplace = True)\n",
    "    # Rename the following list of countries (for use in later questions):\n",
    "\n",
    "    # Remove numbers\n",
    "    Energy['Country'] = Energy['Country'].str.replace('\\d+', '')\n",
    "\n",
    "\n",
    "    # Remove parenthesis and everything in between\n",
    "    Energy['Country'] = Energy['Country'].apply(lambda x: re.sub(r\"\\(.*\\)\", \"\", x))\n",
    "\n",
    "\n",
    "    # Renamea\n",
    "    names = {\n",
    "        \"Republic of Korea\": \"South Korea\",\n",
    "        \"United States of America\": \"United States\",\n",
    "        \"United Kingdom of Great Britain and Northern Ireland\": \"United Kingdom\",\n",
    "        \"China, Hong Kong Special Administrative Region\": \"Hong Kong\",\n",
    "        \"Iran \" : \"Iran\"\n",
    "    }\n",
    "\n",
    "    for key, value in names.items():\n",
    "        Energy = Energy.replace(key, value)\n",
    "\n",
    "    \n",
    "    # load the GDP data from the file `world_bank.csv`\n",
    "\n",
    "\n",
    "    GDP = pd.read_csv(subdir + 'world_bank.csv')\n",
    "\n",
    "    # make header out of row 3\n",
    "    new_columns = GDP.iloc[3]\n",
    "    new_columns[0] = \"Country\"\n",
    "    GDP.columns = new_columns\n",
    "\n",
    "    # Make sure to skip the header\n",
    "    GDP = GDP[4:]\n",
    "\n",
    "    # Use only the last 10 years (2006-2015) of GDP data \n",
    "    columns = ['Country', 2006, 2007, 2008, 2009, 2010, 2011, 2012, 2013, 2014, 2015]\n",
    "    GDP = GDP[columns]\n",
    "    # rename the following list of countries:\n",
    "\n",
    "    names = {\n",
    "        \"Korea, Rep.\": \"South Korea\", \n",
    "        \"Iran, Islamic Rep.\": \"Iran\",\n",
    "        \"Hong Kong SAR, China\": \"Hong Kong\"\n",
    "    }\n",
    "\n",
    "    for key, value in names.items():\n",
    "        GDP = GDP.replace(key, value)\n",
    "\n",
    "\n",
    "\n",
    "    \n",
    "    #load the [Sciamgo Journal and Country Rank data  Call this DataFrame **ScimEn**.\n",
    "    ScimEn = pd.read_excel(subdir + 'scimagojr-3.xlsx')\n",
    "    \n",
    "    \n",
    "    # Join the three datasets: GDP, Energy, and ScimEn into a new dataset (using the intersection of country names). \n",
    "    full = pd.merge(ScimEn, Energy, how='inner', on='Country')\n",
    "    full = pd.merge(full, GDP, how='inner', on='Country')\n",
    "\n",
    "    # Use only the top 15 countries by Scimagojr 'Rank' (Rank 1 through 15).\n",
    "    full = full[:15]\n",
    "\n",
    "    # The index of this DataFrame should be the name of the country.\n",
    "    full.set_index('Country', inplace = True)\n",
    "\n",
    "    columns = ['Rank', 'Documents', 'Citable documents', 'Citations', 'Self-citations',\n",
    "           'Citations per document', 'H index', 'Energy Supply',\n",
    "           'Energy Supply per Capita', '% Renewable', '2006', '2007', '2008',\n",
    "           '2009', '2010', '2011', '2012', '2013', '2014', '2015']\n",
    "    full.columns = columns\n",
    "\n",
    "    full = full.sort_values('Rank')\n",
    "    \n",
    "    full = full[columns]\n",
    "    return full\n",
    "# answer_one().shape"
   ]
  },
  {
   "cell_type": "markdown",
   "metadata": {},
   "source": [
    "### Question 2 (6.6%)\n",
    "The previous question joined three datasets then reduced this to just the top 15 entries. When you joined the datasets, but before you reduced this to the top 15 items, how many entries did you lose?\n",
    "\n",
    "*This function should return a single number.*"
   ]
  },
  {
   "cell_type": "code",
   "execution_count": 331,
   "metadata": {},
   "outputs": [],
   "source": [
    "#%%HTML\n",
    "#<svg width=\"800\" height=\"300\">\n",
    "#  <circle cx=\"150\" cy=\"180\" r=\"80\" fill-opacity=\"0.2\" stroke=\"black\" stroke-width=\"2\" fill=\"blue\" />\n",
    "#  <circle cx=\"200\" cy=\"100\" r=\"80\" fill-opacity=\"0.2\" stroke=\"black\" stroke-width=\"2\" fill=\"red\" />\n",
    "#  <circle cx=\"100\" cy=\"100\" r=\"80\" fill-opacity=\"0.2\" stroke=\"black\" stroke-width=\"2\" fill=\"green\" />\n",
    "#  <line x1=\"150\" y1=\"125\" x2=\"300\" y2=\"150\" stroke=\"black\" stroke-width=\"2\" fill=\"black\" stroke-dasharray=\"5,3\"/>\n",
    "#  <text  x=\"300\" y=\"165\" font-family=\"Verdana\" font-size=\"35\">Everything but this!</text>\n",
    "#</svg>"
   ]
  },
  {
   "cell_type": "code",
   "execution_count": 336,
   "metadata": {
    "umich_part_id": "010",
    "umich_partlist_id": "003"
   },
   "outputs": [
    {
     "data": {
      "text/plain": [
       "160"
      ]
     },
     "execution_count": 336,
     "metadata": {},
     "output_type": "execute_result"
    }
   ],
   "source": [
    "def answer_two():\n",
    "    ## Union - Intersection\n",
    "    outer = pd.merge(ScimEn, Energy, how='outer', on='Country')\n",
    "    outer = pd.merge(outer, GDP, how='outer', on='Country')    \n",
    "    \n",
    "    \n",
    "    \n",
    "    inner = pd.merge(ScimEn, Energy, how='inner', on='Country')\n",
    "    inner = pd.merge(inner, GDP, how='inner', on='Country')\n",
    "    \n",
    "    \n",
    "    return len(outer) - len(inner)\n",
    "    #return outer\n",
    "    #return \n",
    "\n",
    "answer_two()"
   ]
  },
  {
   "cell_type": "markdown",
   "metadata": {},
   "source": [
    "## Answer the following questions in the context of only the top 15 countries by Scimagojr Rank (aka the DataFrame returned by `answer_one()`)"
   ]
  },
  {
   "cell_type": "markdown",
   "metadata": {},
   "source": [
    "### Question 3 (6.6%)\n",
    "What is the average GDP over the last 10 years for each country? (exclude missing values from this calculation.)\n",
    "\n",
    "*This function should return a Series named `avgGDP` with 15 countries and their average GDP sorted in descending order.*"
   ]
  },
  {
   "cell_type": "code",
   "execution_count": 309,
   "metadata": {
    "scrolled": true,
    "umich_part_id": "011",
    "umich_partlist_id": "003"
   },
   "outputs": [
    {
     "name": "stderr",
     "output_type": "stream",
     "text": [
      "/Users/philipclaesson/anaconda3/lib/python3.6/site-packages/ipykernel_launcher.py:53: SettingWithCopyWarning: \n",
      "A value is trying to be set on a copy of a slice from a DataFrame\n",
      "\n",
      "See the caveats in the documentation: http://pandas.pydata.org/pandas-docs/stable/indexing.html#indexing-view-versus-copy\n"
     ]
    },
    {
     "data": {
      "text/plain": [
       "Country\n",
       "United States         1.536434e+13\n",
       "China                 6.348609e+12\n",
       "Japan                 5.542208e+12\n",
       "Germany               3.493025e+12\n",
       "France                2.681725e+12\n",
       "United Kingdom        2.487907e+12\n",
       "Brazil                2.189794e+12\n",
       "Italy                 2.120175e+12\n",
       "India                 1.769297e+12\n",
       "Canada                1.660647e+12\n",
       "Russian Federation    1.565459e+12\n",
       "Spain                 1.418078e+12\n",
       "Australia             1.164043e+12\n",
       "South Korea           1.106715e+12\n",
       "Iran                  4.441558e+11\n",
       "Name: avgGDP, dtype: float64"
      ]
     },
     "execution_count": 309,
     "metadata": {},
     "output_type": "execute_result"
    }
   ],
   "source": [
    "def answer_three():\n",
    "    Top15 = answer_one()\n",
    "    years = ['2006', '2007', '2008',\n",
    "       '2009', '2010', '2011', '2012', '2013', '2014', '2015']\n",
    "    \n",
    "    #Top15[years] = Top15[years].apply(pd.to_numeric)\n",
    "    \n",
    "    Top15['avgGDP'] = Top15[years].mean(axis = 1) #/ 10 #Top15[years].sum()\n",
    "    Top15 = Top15.sort_values('avgGDP', ascending = False)\n",
    "    \n",
    "    return Top15['avgGDP']\n",
    "\n",
    "answer_three()"
   ]
  },
  {
   "cell_type": "markdown",
   "metadata": {},
   "source": [
    "### Question 4 (6.6%)\n",
    "By how much had the GDP changed over the 10 year span for the country with the 6th largest average GDP?\n",
    "\n",
    "*This function should return a single number.*"
   ]
  },
  {
   "cell_type": "code",
   "execution_count": 310,
   "metadata": {
    "collapsed": true,
    "scrolled": true,
    "umich_part_id": "012",
    "umich_partlist_id": "003"
   },
   "outputs": [],
   "source": [
    "def answer_four():\n",
    "    Top15 = answer_one()\n",
    "    years = ['2006', '2007', '2008',\n",
    "       '2009', '2010', '2011', '2012', '2013', '2014', '2015']\n",
    "    \n",
    "    Top15['avgGDP'] = Top15[years].sum(axis = 1) / 10 #Top15[years].sum()\n",
    "    \n",
    "    Top15.sort_values('avgGDP', inplace = True, ascending = False)\n",
    "    \n",
    "    return Top15['2015'].iloc[5] - Top15['2006'].iloc[5]\n",
    "#answer_four()"
   ]
  },
  {
   "cell_type": "markdown",
   "metadata": {},
   "source": [
    "### Question 5 (6.6%)\n",
    "What is the mean `Energy Supply per Capita`?\n",
    "\n",
    "*This function should return a single number.*"
   ]
  },
  {
   "cell_type": "code",
   "execution_count": 311,
   "metadata": {
    "collapsed": true,
    "umich_part_id": "013",
    "umich_partlist_id": "003"
   },
   "outputs": [],
   "source": [
    "def answer_five():\n",
    "    Top15 = answer_one()\n",
    "    \n",
    "    return Top15['Energy Supply per Capita'].sum()/15\n",
    "#answer_five()"
   ]
  },
  {
   "cell_type": "markdown",
   "metadata": {},
   "source": [
    "### Question 6 (6.6%)\n",
    "What country has the maximum % Renewable and what is the percentage?\n",
    "\n",
    "*This function should return a tuple with the name of the country and the percentage.*"
   ]
  },
  {
   "cell_type": "code",
   "execution_count": 312,
   "metadata": {
    "collapsed": true,
    "umich_part_id": "014",
    "umich_partlist_id": "003"
   },
   "outputs": [],
   "source": [
    "def answer_six():\n",
    "    Top15 = answer_one()\n",
    "    Top15.sort_values('% Renewable', ascending = False, inplace = True)\n",
    "    country = Top15.iloc[0].name\n",
    "    perc = Top15.iloc[0]['% Renewable']\n",
    "    return (country, perc)\n",
    "#answer_six()"
   ]
  },
  {
   "cell_type": "markdown",
   "metadata": {},
   "source": [
    "### Question 7 (6.6%)\n",
    "Create a new column that is the ratio of Self-Citations to Total Citations. \n",
    "What is the maximum value for this new column, and what country has the highest ratio?\n",
    "\n",
    "*This function should return a tuple with the name of the country and the ratio.*"
   ]
  },
  {
   "cell_type": "code",
   "execution_count": 313,
   "metadata": {
    "collapsed": true,
    "umich_part_id": "015",
    "umich_partlist_id": "003"
   },
   "outputs": [],
   "source": [
    "def answer_seven():\n",
    "    Top15 = answer_one()\n",
    "    Top15['Ratio'] = Top15['Self-citations']/Top15['Citations']\n",
    "    Top15.sort_values('Ratio', ascending = False, inplace = True)\n",
    "    country = Top15.iloc[0].name\n",
    "    perc = Top15.iloc[0]['Ratio']\n",
    "    return (country, perc)\n",
    "#answer_seven()"
   ]
  },
  {
   "cell_type": "markdown",
   "metadata": {},
   "source": [
    "### Question 8 (6.6%)\n",
    "\n",
    "Create a column that estimates the population using Energy Supply and Energy Supply per capita. \n",
    "What is the third most populous country according to this estimate?\n",
    "\n",
    "*This function should return a single string value.*"
   ]
  },
  {
   "cell_type": "code",
   "execution_count": 314,
   "metadata": {
    "umich_part_id": "016",
    "umich_partlist_id": "003"
   },
   "outputs": [
    {
     "name": "stderr",
     "output_type": "stream",
     "text": [
      "/Users/philipclaesson/anaconda3/lib/python3.6/site-packages/ipykernel_launcher.py:53: SettingWithCopyWarning: \n",
      "A value is trying to be set on a copy of a slice from a DataFrame\n",
      "\n",
      "See the caveats in the documentation: http://pandas.pydata.org/pandas-docs/stable/indexing.html#indexing-view-versus-copy\n"
     ]
    },
    {
     "data": {
      "text/plain": [
       "'United States'"
      ]
     },
     "execution_count": 314,
     "metadata": {},
     "output_type": "execute_result"
    }
   ],
   "source": [
    "\n",
    "def answer_eight():\n",
    "    Top15 = answer_one()\n",
    "    Top15['PopEst'] = Top15['Energy Supply']/Top15['Energy Supply per Capita']\n",
    "    Top15.sort_values('PopEst', ascending = False, inplace = True)\n",
    "    country = Top15.iloc[2].name\n",
    "    #pop = Top15.iloc[0]['PopEst']\n",
    "    return country\n",
    "answer_eight()"
   ]
  },
  {
   "cell_type": "markdown",
   "metadata": {},
   "source": [
    "### Question 9 (6.6%)\n",
    "Create a column that estimates the number of citable documents per person. \n",
    "What is the correlation between the number of citable documents per capita and the energy supply per capita? Use the `.corr()` method, (Pearson's correlation).\n",
    "\n",
    "*This function should return a single number.*\n",
    "\n",
    "*(Optional: Use the built-in function `plot9()` to visualize the relationship between Energy Supply per Capita vs. Citable docs per Capita)*"
   ]
  },
  {
   "cell_type": "code",
   "execution_count": 315,
   "metadata": {
    "umich_part_id": "017",
    "umich_partlist_id": "003"
   },
   "outputs": [
    {
     "name": "stderr",
     "output_type": "stream",
     "text": [
      "/Users/philipclaesson/anaconda3/lib/python3.6/site-packages/ipykernel_launcher.py:53: SettingWithCopyWarning: \n",
      "A value is trying to be set on a copy of a slice from a DataFrame\n",
      "\n",
      "See the caveats in the documentation: http://pandas.pydata.org/pandas-docs/stable/indexing.html#indexing-view-versus-copy\n"
     ]
    },
    {
     "data": {
      "text/plain": [
       "0.52965391786936245"
      ]
     },
     "execution_count": 315,
     "metadata": {},
     "output_type": "execute_result"
    }
   ],
   "source": [
    "def answer_nine():\n",
    "    Top15 = answer_one()\n",
    "    Top15['PopEst'] = Top15['Energy Supply']/Top15['Energy Supply per Capita']\n",
    "    Top15.sort_values('PopEst', ascending = False, inplace = True)\n",
    "    Top15['Citable docs per Capita'] = Top15['Citable documents'] / Top15['PopEst']\n",
    "    return Top15[['Citable docs per Capita','PopEst']].corr()['PopEst'].min() * -1\n",
    "answer_nine()"
   ]
  },
  {
   "cell_type": "code",
   "execution_count": 316,
   "metadata": {
    "collapsed": true
   },
   "outputs": [],
   "source": [
    "def plot9():\n",
    "    import matplotlib as plt\n",
    "    %matplotlib inline\n",
    "    \n",
    "    Top15 = answer_one()\n",
    "    Top15['PopEst'] = Top15['Energy Supply'] / Top15['Energy Supply per Capita']\n",
    "    Top15['Citable docs per Capita'] = Top15['Citable documents'] / Top15['PopEst']\n",
    "    Top15.plot(x='Citable docs per Capita', y='Energy Supply per Capita', kind='scatter', xlim=[0, 0.0006])\n"
   ]
  },
  {
   "cell_type": "code",
   "execution_count": 317,
   "metadata": {
    "collapsed": true
   },
   "outputs": [],
   "source": [
    "#plot9() # Be sure to comment out plot9() before submitting the assignment!"
   ]
  },
  {
   "cell_type": "markdown",
   "metadata": {},
   "source": [
    "### Question 10 (6.6%)\n",
    "Create a new column with a 1 if the country's % Renewable value is at or above the median for all countries in the top 15, and a 0 if the country's % Renewable value is below the median.\n",
    "\n",
    "*This function should return a series named `HighRenew` whose index is the country name sorted in ascending order of rank.*"
   ]
  },
  {
   "cell_type": "code",
   "execution_count": 318,
   "metadata": {
    "umich_part_id": "018",
    "umich_partlist_id": "003"
   },
   "outputs": [
    {
     "name": "stderr",
     "output_type": "stream",
     "text": [
      "/Users/philipclaesson/anaconda3/lib/python3.6/site-packages/ipykernel_launcher.py:53: SettingWithCopyWarning: \n",
      "A value is trying to be set on a copy of a slice from a DataFrame\n",
      "\n",
      "See the caveats in the documentation: http://pandas.pydata.org/pandas-docs/stable/indexing.html#indexing-view-versus-copy\n",
      "/Users/philipclaesson/anaconda3/lib/python3.6/site-packages/ipykernel_launcher.py:5: SettingWithCopyWarning: \n",
      "A value is trying to be set on a copy of a slice from a DataFrame\n",
      "\n",
      "See the caveats in the documentation: http://pandas.pydata.org/pandas-docs/stable/indexing.html#indexing-view-versus-copy\n",
      "  \"\"\"\n"
     ]
    },
    {
     "data": {
      "text/plain": [
       "Country\n",
       "China                  1\n",
       "United States          2\n",
       "Japan                  3\n",
       "United Kingdom         4\n",
       "Russian Federation     5\n",
       "Canada                 6\n",
       "Germany                7\n",
       "India                  8\n",
       "France                 9\n",
       "South Korea           10\n",
       "Italy                 11\n",
       "Spain                 12\n",
       "Iran                  13\n",
       "Australia             14\n",
       "Brazil                15\n",
       "Name: Rank, dtype: int64"
      ]
     },
     "execution_count": 318,
     "metadata": {},
     "output_type": "execute_result"
    }
   ],
   "source": [
    "def answer_ten():\n",
    "    Top15 = answer_one()\n",
    "    median = Top15['% Renewable'].mean()\n",
    "    Top15['AboveMed'] = 0\n",
    "    Top15['AboveMed'][Top15['% Renewable'] > median] = 1\n",
    "    Top15 = Top15.sort_values('Rank', ascending = True)['Rank']\n",
    "    return Top15\n",
    "answer_ten()"
   ]
  },
  {
   "cell_type": "markdown",
   "metadata": {},
   "source": [
    "### Question 11 (6.6%)\n",
    "Use the following dictionary to group the Countries by Continent, then create a dateframe that displays the sample size (the number of countries in each continent bin), and the sum, mean, and std deviation for the estimated population of each country.\n",
    "\n",
    "```python\n",
    "ContinentDict  = {'China':'Asia', \n",
    "                  'United States':'North America', \n",
    "                  'Japan':'Asia', \n",
    "                  'United Kingdom':'Europe', \n",
    "                  'Russian Federation':'Europe', \n",
    "                  'Canada':'North America', \n",
    "                  'Germany':'Europe', \n",
    "                  'India':'Asia',\n",
    "                  'France':'Europe', \n",
    "                  'South Korea':'Asia', \n",
    "                  'Italy':'Europe', \n",
    "                  'Spain':'Europe', \n",
    "                  'Iran':'Asia',\n",
    "                  'Australia':'Australia', \n",
    "                  'Brazil':'South America'}\n",
    "```\n",
    "\n",
    "*This function should return a DataFrame with index named Continent `['Asia', 'Australia', 'Europe', 'North America', 'South America']` and columns `['size', 'sum', 'mean', 'std']`*"
   ]
  },
  {
   "cell_type": "code",
   "execution_count": 416,
   "metadata": {
    "umich_part_id": "019",
    "umich_partlist_id": "003"
   },
   "outputs": [
    {
     "name": "stderr",
     "output_type": "stream",
     "text": [
      "/Users/philipclaesson/anaconda3/lib/python3.6/site-packages/ipykernel_launcher.py:53: SettingWithCopyWarning: \n",
      "A value is trying to be set on a copy of a slice from a DataFrame\n",
      "\n",
      "See the caveats in the documentation: http://pandas.pydata.org/pandas-docs/stable/indexing.html#indexing-view-versus-copy\n",
      "/Users/philipclaesson/anaconda3/lib/python3.6/site-packages/ipykernel_launcher.py:97: SettingWithCopyWarning: \n",
      "A value is trying to be set on a copy of a slice from a DataFrame\n",
      "\n",
      "See the caveats in the documentation: http://pandas.pydata.org/pandas-docs/stable/indexing.html#indexing-view-versus-copy\n",
      "/Users/philipclaesson/anaconda3/lib/python3.6/site-packages/ipykernel_launcher.py:98: SettingWithCopyWarning: \n",
      "A value is trying to be set on a copy of a slice from a DataFrame\n",
      "\n",
      "See the caveats in the documentation: http://pandas.pydata.org/pandas-docs/stable/indexing.html#indexing-view-versus-copy\n",
      "/Users/philipclaesson/anaconda3/lib/python3.6/site-packages/ipykernel_launcher.py:99: SettingWithCopyWarning: \n",
      "A value is trying to be set on a copy of a slice from a DataFrame\n",
      "\n",
      "See the caveats in the documentation: http://pandas.pydata.org/pandas-docs/stable/indexing.html#indexing-view-versus-copy\n",
      "/Users/philipclaesson/anaconda3/lib/python3.6/site-packages/ipykernel_launcher.py:100: SettingWithCopyWarning: \n",
      "A value is trying to be set on a copy of a slice from a DataFrame\n",
      "\n",
      "See the caveats in the documentation: http://pandas.pydata.org/pandas-docs/stable/indexing.html#indexing-view-versus-copy\n"
     ]
    },
    {
     "data": {
      "text/html": [
       "<div>\n",
       "<style>\n",
       "    .dataframe thead tr:only-child th {\n",
       "        text-align: right;\n",
       "    }\n",
       "\n",
       "    .dataframe thead th {\n",
       "        text-align: left;\n",
       "    }\n",
       "\n",
       "    .dataframe tbody tr th {\n",
       "        vertical-align: top;\n",
       "    }\n",
       "</style>\n",
       "<table border=\"1\" class=\"dataframe\">\n",
       "  <thead>\n",
       "    <tr style=\"text-align: right;\">\n",
       "      <th></th>\n",
       "      <th>size</th>\n",
       "      <th>sum</th>\n",
       "      <th>mean</th>\n",
       "      <th>std</th>\n",
       "    </tr>\n",
       "  </thead>\n",
       "  <tbody>\n",
       "    <tr>\n",
       "      <th>Asia</th>\n",
       "      <td>5</td>\n",
       "      <td>2.89867e+09</td>\n",
       "      <td>5.79733e+08</td>\n",
       "      <td>6.07404e+08</td>\n",
       "    </tr>\n",
       "    <tr>\n",
       "      <th>Australia</th>\n",
       "      <td>1</td>\n",
       "      <td>2.3316e+07</td>\n",
       "      <td>2.3316e+07</td>\n",
       "      <td>0</td>\n",
       "    </tr>\n",
       "    <tr>\n",
       "      <th>Europe</th>\n",
       "      <td>6</td>\n",
       "      <td>4.5793e+08</td>\n",
       "      <td>7.63216e+07</td>\n",
       "      <td>3.16288e+07</td>\n",
       "    </tr>\n",
       "    <tr>\n",
       "      <th>North America</th>\n",
       "      <td>2</td>\n",
       "      <td>3.52855e+08</td>\n",
       "      <td>1.76428e+08</td>\n",
       "      <td>1.41188e+08</td>\n",
       "    </tr>\n",
       "    <tr>\n",
       "      <th>South America</th>\n",
       "      <td>1</td>\n",
       "      <td>2.05915e+08</td>\n",
       "      <td>2.05915e+08</td>\n",
       "      <td>0</td>\n",
       "    </tr>\n",
       "  </tbody>\n",
       "</table>\n",
       "</div>"
      ],
      "text/plain": [
       "               size          sum         mean          std\n",
       "Asia              5  2.89867e+09  5.79733e+08  6.07404e+08\n",
       "Australia         1   2.3316e+07   2.3316e+07            0\n",
       "Europe            6   4.5793e+08  7.63216e+07  3.16288e+07\n",
       "North America     2  3.52855e+08  1.76428e+08  1.41188e+08\n",
       "South America     1  2.05915e+08  2.05915e+08            0"
      ]
     },
     "execution_count": 416,
     "metadata": {},
     "output_type": "execute_result"
    }
   ],
   "source": [
    "def get_cd():\n",
    "    ContinentDict  = {'China':'Asia', \n",
    "                  'United States':'North America', \n",
    "                  'Japan':'Asia', \n",
    "                  'United Kingdom':'Europe', \n",
    "                  'Russian Federation':'Europe', \n",
    "                  'Canada':'North America', \n",
    "                  'Germany':'Europe', \n",
    "                  'India':'Asia',\n",
    "                  'France':'Europe', \n",
    "                  'South Korea':'Asia', \n",
    "                  'Italy':'Europe', \n",
    "                  'Spain':'Europe', \n",
    "                  'Iran':'Asia',\n",
    "                  'Australia':'Australia', \n",
    "                  'Brazil':'South America'}\n",
    "    return ContinentDict\n",
    "\n",
    "def answer_eleven2():\n",
    "    Top15 = answer_one().copy()\n",
    "\n",
    "    \n",
    "    ContinentDict  = {'China':'Asia', \n",
    "                  'United States':'North America', \n",
    "                  'Japan':'Asia', \n",
    "                  'United Kingdom':'Europe', \n",
    "                  'Russian Federation':'Europe', \n",
    "                  'Canada':'North America', \n",
    "                  'Germany':'Europe', \n",
    "                  'India':'Asia',\n",
    "                  'France':'Europe', \n",
    "                  'South Korea':'Asia', \n",
    "                  'Italy':'Europe', \n",
    "                  'Spain':'Europe', \n",
    "                  'Iran':'Asia',\n",
    "                  'Australia':'Australia', \n",
    "                  'Brazil':'South America'}\n",
    "\n",
    "    # Create popest\n",
    "    Top15['PopEst'] = Top15['Energy Supply']/Top15['Energy Supply per Capita']\n",
    "    Top15.sort_values('PopEst', ascending = False, inplace = True)\n",
    "    Top15['Citable docs per Capita'] = Top15['Citable documents'] / Top15['PopEst']\n",
    "    Top15.rename(ContinentDict, inplace = True)\n",
    "    Top15.index.name = 'Continent'\n",
    "    Continent = pd.DataFrame(index=['Asia', 'Australia', 'Europe', 'North America', 'South America'], \\\n",
    "                              columns =['size', 'sum', 'mean', 'std'])\n",
    "    Top15['size'] = 1\n",
    "    Top15['sum'] = Top15['PopEst']\n",
    "    Top15['mean'] = Top15['PopEst']\n",
    "    Top15['std'] = Top15['PopEst']\n",
    "    #f = {'size': lambda x: np.float(np.sum(x)), 'sum' : lambda x: np.float(np.sum(x)), 'mean': lambda x: np.mean(x), 'std':lambda x: np.float(np.std(x))}\n",
    "    f = {'size': ['sum'], 'sum' : ['sum'], 'mean': lambda x: np.mean(x), 'std':lambda x: np.std(x)}\n",
    "    Top15.reset_index(inplace = True)\n",
    "    Top15 = Top15.groupby(['Continent']).agg(f)\n",
    "    Top15.columns = ['size', 'sum', 'mean', 'std']\n",
    "    #Top15['size'] = Top15['size'].astype('float64')\n",
    "    \n",
    "    #Top15 = Top15.reset_index()[['Continent', 'PopEst']]\n",
    "    Continent['size'] = Top15['size']\n",
    "    Continent['sum'] = Top15['sum']\n",
    "    Continent['mean'] = Top15['mean']\n",
    "    Continent['std'] = Top15['std']\n",
    "    Continent['size'] = Continent['size'].astype('float64')\n",
    "    return Continent\n",
    "    \n",
    "\n",
    "def answer_eleven():\n",
    "    Top15 = answer_one().copy()\n",
    "\n",
    "    \n",
    "    ContinentDict  = {'China':'Asia', \n",
    "                  'United States':'North America', \n",
    "                  'Japan':'Asia', \n",
    "                  'United Kingdom':'Europe', \n",
    "                  'Russian Federation':'Europe', \n",
    "                  'Canada':'North America', \n",
    "                  'Germany':'Europe', \n",
    "                  'India':'Asia',\n",
    "                  'France':'Europe', \n",
    "                  'South Korea':'Asia', \n",
    "                  'Italy':'Europe', \n",
    "                  'Spain':'Europe', \n",
    "                  'Iran':'Asia',\n",
    "                  'Australia':'Australia', \n",
    "                  'Brazil':'South America'}\n",
    "\n",
    "    # Create popest\n",
    "    Top15['PopEst'] = Top15['Energy Supply']/Top15['Energy Supply per Capita']\n",
    "    Top15.sort_values('PopEst', ascending = False, inplace = True)\n",
    "    Top15['Citable docs per Capita'] = Top15['Citable documents'] / Top15['PopEst']\n",
    "    Top15.rename(ContinentDict, inplace = True)\n",
    "    Top15.index.name = 'Continent'\n",
    "    Continent = pd.DataFrame(index=['Asia', 'Australia', 'Europe', 'North America', 'South America'], \\\n",
    "                              columns =['size', 'sum', 'mean', 'std'])\n",
    "    Top15 = Top15['PopEst']\n",
    "    Continent['size'] = 0\n",
    "    for i in range(5):\n",
    "        cont = Continent.iloc[i].name\n",
    "        Continent['size'][Continent.index==cont] = np.size(Top15[Top15.index == cont])\n",
    "        Continent['sum'][Continent.index==cont] = np.sum(Top15[Top15.index == cont])\n",
    "        Continent['mean'][Continent.index==cont] = np.mean(Top15[Top15.index == cont])\n",
    "        Continent['std'][Continent.index==cont] = np.std(Top15[Top15.index == cont])\n",
    "        \n",
    "    return Continent\n",
    "    \n",
    "\n",
    "\n",
    "answer_eleven()"
   ]
  },
  {
   "cell_type": "markdown",
   "metadata": {},
   "source": [
    "### Question 12 (6.6%)\n",
    "Cut % Renewable into 5 bins. Group Top15 by the Continent, as well as these new % Renewable bins. How many countries are in each of these groups?\n",
    "\n",
    "*This function should return a __Series__ with a MultiIndex of `Continent`, then the bins for `% Renewable`. Do not include groups with no countries.*"
   ]
  },
  {
   "cell_type": "code",
   "execution_count": 255,
   "metadata": {
    "scrolled": true
   },
   "outputs": [
    {
     "name": "stderr",
     "output_type": "stream",
     "text": [
      "/Users/philipclaesson/anaconda3/lib/python3.6/site-packages/ipykernel_launcher.py:53: SettingWithCopyWarning: \n",
      "A value is trying to be set on a copy of a slice from a DataFrame\n",
      "\n",
      "See the caveats in the documentation: http://pandas.pydata.org/pandas-docs/stable/indexing.html#indexing-view-versus-copy\n"
     ]
    },
    {
     "data": {
      "text/html": [
       "<div>\n",
       "<style>\n",
       "    .dataframe thead tr:only-child th {\n",
       "        text-align: right;\n",
       "    }\n",
       "\n",
       "    .dataframe thead th {\n",
       "        text-align: left;\n",
       "    }\n",
       "\n",
       "    .dataframe tbody tr th {\n",
       "        vertical-align: top;\n",
       "    }\n",
       "</style>\n",
       "<table border=\"1\" class=\"dataframe\">\n",
       "  <thead>\n",
       "    <tr style=\"text-align: right;\">\n",
       "      <th></th>\n",
       "      <th></th>\n",
       "      <th>Country</th>\n",
       "    </tr>\n",
       "    <tr>\n",
       "      <th>Continent</th>\n",
       "      <th>% Renewable</th>\n",
       "      <th></th>\n",
       "    </tr>\n",
       "  </thead>\n",
       "  <tbody>\n",
       "    <tr>\n",
       "      <th rowspan=\"4\" valign=\"top\">Asia</th>\n",
       "      <th>1</th>\n",
       "      <td>Japan</td>\n",
       "    </tr>\n",
       "    <tr>\n",
       "      <th>1</th>\n",
       "      <td>India</td>\n",
       "    </tr>\n",
       "    <tr>\n",
       "      <th>1</th>\n",
       "      <td>South Korea</td>\n",
       "    </tr>\n",
       "    <tr>\n",
       "      <th>1</th>\n",
       "      <td>Iran</td>\n",
       "    </tr>\n",
       "    <tr>\n",
       "      <th>Australia</th>\n",
       "      <th>1</th>\n",
       "      <td>Australia</td>\n",
       "    </tr>\n",
       "    <tr>\n",
       "      <th>Europe</th>\n",
       "      <th>1</th>\n",
       "      <td>United Kingdom</td>\n",
       "    </tr>\n",
       "    <tr>\n",
       "      <th>North America</th>\n",
       "      <th>1</th>\n",
       "      <td>United States</td>\n",
       "    </tr>\n",
       "    <tr>\n",
       "      <th>Asia</th>\n",
       "      <th>2</th>\n",
       "      <td>China</td>\n",
       "    </tr>\n",
       "    <tr>\n",
       "      <th rowspan=\"5\" valign=\"top\">Europe</th>\n",
       "      <th>2</th>\n",
       "      <td>Russian Federation</td>\n",
       "    </tr>\n",
       "    <tr>\n",
       "      <th>2</th>\n",
       "      <td>Germany</td>\n",
       "    </tr>\n",
       "    <tr>\n",
       "      <th>2</th>\n",
       "      <td>France</td>\n",
       "    </tr>\n",
       "    <tr>\n",
       "      <th>3</th>\n",
       "      <td>Italy</td>\n",
       "    </tr>\n",
       "    <tr>\n",
       "      <th>3</th>\n",
       "      <td>Spain</td>\n",
       "    </tr>\n",
       "    <tr>\n",
       "      <th>North America</th>\n",
       "      <th>5</th>\n",
       "      <td>Canada</td>\n",
       "    </tr>\n",
       "    <tr>\n",
       "      <th>South America</th>\n",
       "      <th>5</th>\n",
       "      <td>Brazil</td>\n",
       "    </tr>\n",
       "  </tbody>\n",
       "</table>\n",
       "</div>"
      ],
      "text/plain": [
       "                                      Country\n",
       "Continent     % Renewable                    \n",
       "Asia          1                         Japan\n",
       "              1                         India\n",
       "              1                   South Korea\n",
       "              1                          Iran\n",
       "Australia     1                     Australia\n",
       "Europe        1                United Kingdom\n",
       "North America 1                 United States\n",
       "Asia          2                         China\n",
       "Europe        2            Russian Federation\n",
       "              2                       Germany\n",
       "              2                        France\n",
       "              3                         Italy\n",
       "              3                         Spain\n",
       "North America 5                        Canada\n",
       "South America 5                        Brazil"
      ]
     },
     "execution_count": 255,
     "metadata": {},
     "output_type": "execute_result"
    }
   ],
   "source": [
    "def answer_twelve():\n",
    "    Top15 = answer_one().copy()\n",
    "    cd = get_cd()\n",
    "    renew = Top15['% Renewable']\n",
    "    intervals = pd.cut(renew, 5, retbins=True, labels = [1, 2, 3, 4, 5])\n",
    "    Top15 = intervals[0].to_frame()\n",
    "    Top15.reset_index(inplace = True)\n",
    "    Top15['Continent'] = Top15['Country']\n",
    "    Top15['Continent'] = Top15['Continent'].apply(lambda x: cd[x])\n",
    "    Top15.sort_values(['Continent'], inplace = True)\n",
    "    Top15 = Top15.set_index(['Continent'])\n",
    "    Top15.sort_values(['% Renewable'], inplace = True)\n",
    "    Top15 = Top15.reset_index()\n",
    "    Top15 = Top15.set_index(['Continent','% Renewable'])\n",
    "    Top15 = Top15.groupby(Top15.index)\n",
    "    return Top15.head(15)\n",
    "answer_twelve()"
   ]
  },
  {
   "cell_type": "markdown",
   "metadata": {},
   "source": [
    "### Question 13 (6.6%)\n",
    "Convert the Population Estimate series to a string with thousands separator (using commas). Do not round the results.\n",
    "\n",
    "e.g. 317615384.61538464 -> 317,615,384.61538464\n",
    "\n",
    "*This function should return a Series `PopEst` whose index is the country name and whose values are the population estimate string.*"
   ]
  },
  {
   "cell_type": "code",
   "execution_count": 312,
   "metadata": {
    "collapsed": true,
    "scrolled": true,
    "umich_part_id": "020",
    "umich_partlist_id": "003"
   },
   "outputs": [],
   "source": [
    "def tstring(n): \n",
    "    return \"{:,}\".format(n)\n",
    "\n",
    "            \n",
    "\n",
    "def answer_thirteen():\n",
    "    Top15 = answer_one().copy()\n",
    "    Top15['PopEst'] = Top15['Energy Supply']/Top15['Energy Supply per Capita']\n",
    "    Top15['PopEstStr'] = Top15['PopEst']\n",
    "    \n",
    "    Top15 = Top15['PopEst'].apply(lambda x: tstring(x))\n",
    "\n",
    "    #Top15 = Top15['PopEst']\n",
    "    return Top15\n",
    "#answer_thirteen()"
   ]
  },
  {
   "cell_type": "markdown",
   "metadata": {},
   "source": [
    "### Optional\n",
    "\n",
    "Use the built in function `plot_optional()` to see an example visualization."
   ]
  },
  {
   "cell_type": "code",
   "execution_count": 314,
   "metadata": {
    "collapsed": true,
    "scrolled": true
   },
   "outputs": [],
   "source": [
    "def plot_optional():\n",
    "    import matplotlib as plt\n",
    "    %matplotlib inline\n",
    "    Top15 = answer_one()\n",
    "    ax = Top15.plot(x='Rank', y='% Renewable', kind='scatter', \n",
    "                    c=['#e41a1c','#377eb8','#e41a1c','#4daf4a','#4daf4a','#377eb8','#4daf4a','#e41a1c',\n",
    "                       '#4daf4a','#e41a1c','#4daf4a','#4daf4a','#e41a1c','#dede00','#ff7f00'], \n",
    "                    xticks=range(1,16), s=6*Top15['2014']/10**10, alpha=.75, figsize=[16,6]);\n",
    "\n",
    "    for i, txt in enumerate(Top15.index):\n",
    "        ax.annotate(txt, [Top15['Rank'][i], Top15['% Renewable'][i]], ha='center')\n",
    "\n",
    "    print(\"This is an example of a visualization that can be created to help understand the data. \\\n",
    "This is a bubble chart showing % Renewable vs. Rank. The size of the bubble corresponds to the countries' \\\n",
    "2014 GDP, and the color corresponds to the continent.\")\n"
   ]
  },
  {
   "cell_type": "code",
   "execution_count": 234,
   "metadata": {
    "collapsed": true
   },
   "outputs": [],
   "source": [
    "#plot_optional() # Be sure to comment out plot_optional() before submitting the assignment!"
   ]
  },
  {
   "cell_type": "code",
   "execution_count": null,
   "metadata": {
    "collapsed": true
   },
   "outputs": [],
   "source": []
  }
 ],
 "metadata": {
  "anaconda-cloud": {},
  "coursera": {
   "course_slug": "python-data-analysis",
   "graded_item_id": "zAr06",
   "launcher_item_id": "KSSjT",
   "part_id": "SL3fU"
  },
  "kernelspec": {
   "display_name": "Python 3",
   "language": "python",
   "name": "python3"
  },
  "language_info": {
   "codemirror_mode": {
    "name": "ipython",
    "version": 3
   },
   "file_extension": ".py",
   "mimetype": "text/x-python",
   "name": "python",
   "nbconvert_exporter": "python",
   "pygments_lexer": "ipython3",
   "version": "3.6.2"
  },
  "umich": {
   "id": "Assignment 3",
   "version": "1.5"
  }
 },
 "nbformat": 4,
 "nbformat_minor": 1
}
